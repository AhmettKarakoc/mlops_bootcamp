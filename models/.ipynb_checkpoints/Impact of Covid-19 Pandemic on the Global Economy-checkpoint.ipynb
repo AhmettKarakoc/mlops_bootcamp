{
 "cells": [
  {
   "cell_type": "markdown",
   "id": "8cebe029",
   "metadata": {},
   "source": [
    "# Summary\n",
    "\n",
    "The dataset for this project was collected from [kaggle](https://www.kaggle.com/shashwatwork/impact-of-covid19-pandemic-on-the-global-economy)[The Impact of Covid-19 Pandemic on the Global Economy: Emphasis on Poverty Alleviation and Economic Growth](https://data.mendeley.com/datasets/b2wvnbnpj9/1). The data I investigate here consists of records on the impact of covid-19 on the global economy including 210 countries.\n",
    "\n",
    "In this project, we will employ linear regression algorithms to find relationship between common GDP and human development index and total number of death. The goal with this implementation is to construct a model that accurately predicts how the global economy of each country is affected.\n",
    "\n"
   ]
  },
  {
   "cell_type": "markdown",
   "id": "b7f4163f",
   "metadata": {},
   "source": [
    "## Featureset Exploration\n",
    "\n",
    "**iso_code**: country code\n",
    "\n",
    "**location**: name of the country\n",
    "\n",
    "**date**\n",
    "\n",
    "**total_cases**: number of COVID19 cases\n",
    "\n",
    "**total_deaths**\n",
    "\n",
    "**stringency_index**:  The Stringency Index provides a computable parameter to evaluate the effectiveness of the nationwide lockdown. It is used by the Oxford COVID-19 Government Response Tracker with a database of 17 indicators of government response such as school and workplace closings, public events, public transport, stay-at-home policies. The Stringency Index is a number from 0 to 100 that reflects these indicators. A higher index score indicates a higher level of stringency.\n",
    "\n",
    "**population**\n",
    "\n",
    "**gdp_per_capita**: A country's GDP or gross domestic product is calculated by taking into account the monetary worth of a nation's goods and services after a certain period of time, usually one year. It's a measure of economic activity.\n",
    "\n",
    "**hdi**: The HDI was created to emphasize that people and their capabilities should be the ultimate criteria for assessing the development of a country, not economic growth alone. The Human Development Index (HDI) is a summary measure of average achievement in key dimensions of human development: a long and healthy life, being knowledgeable and have a decent standard of living. The HDI is the geometric mean of normalized indices for each of the three dimensions."
   ]
  },
  {
   "cell_type": "markdown",
   "id": "a0341dce",
   "metadata": {},
   "source": [
    "# Exploratory Data Analysis"
   ]
  },
  {
   "cell_type": "code",
   "execution_count": 1,
   "id": "54932764",
   "metadata": {},
   "outputs": [],
   "source": [
    "import pandas as pd \n",
    "import numpy as np\n",
    "import seaborn as sns\n",
    "import matplotlib.pyplot as plt\n",
    "import plotly.express as px\n",
    "from sklearn.preprocessing import MinMaxScaler, StandardScaler, PolynomialFeatures\n",
    "from sklearn.metrics import mean_squared_error, r2_score\n",
    "from sklearn.model_selection import KFold, cross_val_predict\n",
    "from sklearn.model_selection import GridSearchCV\n",
    "from sklearn.linear_model import LinearRegression, Lasso, LassoCV, Ridge, RidgeCV, ElasticNetCV, ElasticNet\n",
    "from sklearn.pipeline import Pipeline\n",
    "from sklearn.model_selection import train_test_split\n",
    "# Mute the sklearn warning about regularization\n",
    "import warnings\n",
    "warnings.filterwarnings('ignore', module='sklearn')"
   ]
  },
  {
   "cell_type": "code",
   "execution_count": 2,
   "id": "903fb7e6",
   "metadata": {},
   "outputs": [
    {
     "data": {
      "text/html": [
       "<div>\n",
       "<style scoped>\n",
       "    .dataframe tbody tr th:only-of-type {\n",
       "        vertical-align: middle;\n",
       "    }\n",
       "\n",
       "    .dataframe tbody tr th {\n",
       "        vertical-align: top;\n",
       "    }\n",
       "\n",
       "    .dataframe thead th {\n",
       "        text-align: right;\n",
       "    }\n",
       "</style>\n",
       "<table border=\"1\" class=\"dataframe\">\n",
       "  <thead>\n",
       "    <tr style=\"text-align: right;\">\n",
       "      <th></th>\n",
       "      <th>iso_code</th>\n",
       "      <th>location</th>\n",
       "      <th>date</th>\n",
       "      <th>total_cases</th>\n",
       "      <th>total_deaths</th>\n",
       "      <th>stringency_index</th>\n",
       "      <th>population</th>\n",
       "      <th>gdp_per_capita</th>\n",
       "      <th>human_development_index</th>\n",
       "      <th>Unnamed: 9</th>\n",
       "      <th>Unnamed: 10</th>\n",
       "      <th>Unnamed: 11</th>\n",
       "      <th>Unnamed: 12</th>\n",
       "      <th>Unnamed: 13</th>\n",
       "    </tr>\n",
       "  </thead>\n",
       "  <tbody>\n",
       "    <tr>\n",
       "      <th>0</th>\n",
       "      <td>AFG</td>\n",
       "      <td>Afghanistan</td>\n",
       "      <td>2019-12-31</td>\n",
       "      <td>0.0</td>\n",
       "      <td>0.0</td>\n",
       "      <td>0.0</td>\n",
       "      <td>38928341</td>\n",
       "      <td>1803.987</td>\n",
       "      <td>0.498</td>\n",
       "      <td>#NUM!</td>\n",
       "      <td>#NUM!</td>\n",
       "      <td>#NUM!</td>\n",
       "      <td>17.477233</td>\n",
       "      <td>7.497754494</td>\n",
       "    </tr>\n",
       "    <tr>\n",
       "      <th>1</th>\n",
       "      <td>AFG</td>\n",
       "      <td>Afghanistan</td>\n",
       "      <td>2020-01-01</td>\n",
       "      <td>0.0</td>\n",
       "      <td>0.0</td>\n",
       "      <td>0.0</td>\n",
       "      <td>38928341</td>\n",
       "      <td>1803.987</td>\n",
       "      <td>0.498</td>\n",
       "      <td>#NUM!</td>\n",
       "      <td>#NUM!</td>\n",
       "      <td>#NUM!</td>\n",
       "      <td>17.477233</td>\n",
       "      <td>7.497754494</td>\n",
       "    </tr>\n",
       "    <tr>\n",
       "      <th>2</th>\n",
       "      <td>AFG</td>\n",
       "      <td>Afghanistan</td>\n",
       "      <td>2020-01-02</td>\n",
       "      <td>0.0</td>\n",
       "      <td>0.0</td>\n",
       "      <td>0.0</td>\n",
       "      <td>38928341</td>\n",
       "      <td>1803.987</td>\n",
       "      <td>0.498</td>\n",
       "      <td>#NUM!</td>\n",
       "      <td>#NUM!</td>\n",
       "      <td>#NUM!</td>\n",
       "      <td>17.477233</td>\n",
       "      <td>7.497754494</td>\n",
       "    </tr>\n",
       "    <tr>\n",
       "      <th>3</th>\n",
       "      <td>AFG</td>\n",
       "      <td>Afghanistan</td>\n",
       "      <td>2020-01-03</td>\n",
       "      <td>0.0</td>\n",
       "      <td>0.0</td>\n",
       "      <td>0.0</td>\n",
       "      <td>38928341</td>\n",
       "      <td>1803.987</td>\n",
       "      <td>0.498</td>\n",
       "      <td>#NUM!</td>\n",
       "      <td>#NUM!</td>\n",
       "      <td>#NUM!</td>\n",
       "      <td>17.477233</td>\n",
       "      <td>7.497754494</td>\n",
       "    </tr>\n",
       "    <tr>\n",
       "      <th>4</th>\n",
       "      <td>AFG</td>\n",
       "      <td>Afghanistan</td>\n",
       "      <td>2020-01-04</td>\n",
       "      <td>0.0</td>\n",
       "      <td>0.0</td>\n",
       "      <td>0.0</td>\n",
       "      <td>38928341</td>\n",
       "      <td>1803.987</td>\n",
       "      <td>0.498</td>\n",
       "      <td>#NUM!</td>\n",
       "      <td>#NUM!</td>\n",
       "      <td>#NUM!</td>\n",
       "      <td>17.477233</td>\n",
       "      <td>7.497754494</td>\n",
       "    </tr>\n",
       "  </tbody>\n",
       "</table>\n",
       "</div>"
      ],
      "text/plain": [
       "  iso_code     location        date  total_cases  total_deaths  \\\n",
       "0      AFG  Afghanistan  2019-12-31          0.0           0.0   \n",
       "1      AFG  Afghanistan  2020-01-01          0.0           0.0   \n",
       "2      AFG  Afghanistan  2020-01-02          0.0           0.0   \n",
       "3      AFG  Afghanistan  2020-01-03          0.0           0.0   \n",
       "4      AFG  Afghanistan  2020-01-04          0.0           0.0   \n",
       "\n",
       "   stringency_index  population  gdp_per_capita  human_development_index  \\\n",
       "0               0.0    38928341        1803.987                    0.498   \n",
       "1               0.0    38928341        1803.987                    0.498   \n",
       "2               0.0    38928341        1803.987                    0.498   \n",
       "3               0.0    38928341        1803.987                    0.498   \n",
       "4               0.0    38928341        1803.987                    0.498   \n",
       "\n",
       "  Unnamed: 9 Unnamed: 10 Unnamed: 11  Unnamed: 12  Unnamed: 13  \n",
       "0      #NUM!       #NUM!       #NUM!    17.477233  7.497754494  \n",
       "1      #NUM!       #NUM!       #NUM!    17.477233  7.497754494  \n",
       "2      #NUM!       #NUM!       #NUM!    17.477233  7.497754494  \n",
       "3      #NUM!       #NUM!       #NUM!    17.477233  7.497754494  \n",
       "4      #NUM!       #NUM!       #NUM!    17.477233  7.497754494  "
      ]
     },
     "execution_count": 2,
     "metadata": {},
     "output_type": "execute_result"
    }
   ],
   "source": [
    "df = pd.read_csv(\"raw_data.csv\")\n",
    "df.head()"
   ]
  },
  {
   "cell_type": "code",
   "execution_count": 3,
   "id": "35b562bd",
   "metadata": {},
   "outputs": [
    {
     "name": "stdout",
     "output_type": "stream",
     "text": [
      "<class 'pandas.core.frame.DataFrame'>\n",
      "RangeIndex: 50418 entries, 0 to 50417\n",
      "Data columns (total 14 columns):\n",
      " #   Column                   Non-Null Count  Dtype  \n",
      "---  ------                   --------------  -----  \n",
      " 0   iso_code                 50418 non-null  object \n",
      " 1   location                 50418 non-null  object \n",
      " 2   date                     50418 non-null  object \n",
      " 3   total_cases              47324 non-null  float64\n",
      " 4   total_deaths             39228 non-null  float64\n",
      " 5   stringency_index         43292 non-null  float64\n",
      " 6   population               50418 non-null  int64  \n",
      " 7   gdp_per_capita           44706 non-null  float64\n",
      " 8   human_development_index  44216 non-null  float64\n",
      " 9   Unnamed: 9               50418 non-null  object \n",
      " 10  Unnamed: 10              50418 non-null  object \n",
      " 11  Unnamed: 11              50418 non-null  object \n",
      " 12  Unnamed: 12              50418 non-null  float64\n",
      " 13  Unnamed: 13              50418 non-null  object \n",
      "dtypes: float64(6), int64(1), object(7)\n",
      "memory usage: 5.4+ MB\n"
     ]
    }
   ],
   "source": [
    "df.info()"
   ]
  },
  {
   "cell_type": "code",
   "execution_count": 4,
   "id": "52c8738a",
   "metadata": {},
   "outputs": [
    {
     "data": {
      "text/plain": [
       "iso_code                       0\n",
       "location                       0\n",
       "date                           0\n",
       "total_cases                 3094\n",
       "total_deaths               11190\n",
       "stringency_index            7126\n",
       "population                     0\n",
       "gdp_per_capita              5712\n",
       "human_development_index     6202\n",
       "Unnamed: 9                     0\n",
       "Unnamed: 10                    0\n",
       "Unnamed: 11                    0\n",
       "Unnamed: 12                    0\n",
       "Unnamed: 13                    0\n",
       "dtype: int64"
      ]
     },
     "execution_count": 4,
     "metadata": {},
     "output_type": "execute_result"
    }
   ],
   "source": [
    "df.isnull().sum()"
   ]
  },
  {
   "cell_type": "code",
   "execution_count": 5,
   "id": "17f54f4a",
   "metadata": {},
   "outputs": [],
   "source": [
    "df = df.drop([\"iso_code\",\"Unnamed: 9\",\"Unnamed: 10\",\"Unnamed: 11\",\"Unnamed: 12\",\"Unnamed: 13\"], axis=1)"
   ]
  },
  {
   "cell_type": "code",
   "execution_count": 6,
   "id": "e010adae",
   "metadata": {},
   "outputs": [
    {
     "data": {
      "text/plain": [
       "location                    object\n",
       "date                        object\n",
       "total_cases                float64\n",
       "total_deaths               float64\n",
       "stringency_index           float64\n",
       "population                   int64\n",
       "gdp_per_capita             float64\n",
       "human_development_index    float64\n",
       "dtype: object"
      ]
     },
     "execution_count": 6,
     "metadata": {},
     "output_type": "execute_result"
    }
   ],
   "source": [
    "df.dtypes"
   ]
  },
  {
   "cell_type": "code",
   "execution_count": 7,
   "id": "75a39ae8",
   "metadata": {},
   "outputs": [],
   "source": [
    "df['total_cases'].fillna(df['total_cases'].mean(), inplace=True)\n",
    "df['total_deaths'].fillna(df['total_deaths'].mean(), inplace=True)\n",
    "df['stringency_index'].fillna(df['stringency_index'].mean(), inplace=True)\n",
    "df['gdp_per_capita'].fillna(df['gdp_per_capita'].mean(), inplace=True)\n",
    "df['human_development_index'].fillna(df['human_development_index'].mean(), inplace=True)\n",
    "    "
   ]
  },
  {
   "cell_type": "code",
   "execution_count": 8,
   "id": "5e3e5468",
   "metadata": {},
   "outputs": [
    {
     "data": {
      "text/plain": [
       "location                   0\n",
       "date                       0\n",
       "total_cases                0\n",
       "total_deaths               0\n",
       "stringency_index           0\n",
       "population                 0\n",
       "gdp_per_capita             0\n",
       "human_development_index    0\n",
       "dtype: int64"
      ]
     },
     "execution_count": 8,
     "metadata": {},
     "output_type": "execute_result"
    }
   ],
   "source": [
    "df.isnull().sum()"
   ]
  },
  {
   "cell_type": "code",
   "execution_count": 9,
   "id": "fdd9e95f",
   "metadata": {},
   "outputs": [],
   "source": [
    "df = df.rename(columns={\"human_development_index\":\"hdi\"})\n"
   ]
  },
  {
   "cell_type": "markdown",
   "id": "3aa4a561",
   "metadata": {},
   "source": [
    "The addition of x + 1 is commonly used when working with numerical data such as Gross Domestic Product (GDP) and the number of deaths (total deaths). In datasets containing numerical values, it is not uncommon to encounter zeros or negative values, which can pose issues when applying logarithmic transformations."
   ]
  },
  {
   "cell_type": "code",
   "execution_count": 10,
   "id": "b753c1b4",
   "metadata": {},
   "outputs": [],
   "source": [
    "gdp_trnsform = df['gdp_per_capita'].apply(lambda x: np.log(x+1 ))\n",
    "total_deaths_trnsform = df['total_deaths'].apply(lambda x: np.log(x+1))"
   ]
  },
  {
   "cell_type": "code",
   "execution_count": 11,
   "id": "13bb5826",
   "metadata": {},
   "outputs": [
    {
     "data": {
      "text/plain": [
       "Text(0, 0.5, 'Total Deaths')"
      ]
     },
     "execution_count": 11,
     "metadata": {},
     "output_type": "execute_result"
    },
    {
     "data": {
      "image/png": "[encoded data removed]",
      "text/plain": [
       "<Figure size 1000x500 with 2 Axes>"
      ]
     },
     "metadata": {},
     "output_type": "display_data"
    },
    {
     "data": {
      "image/png": "[encoded data removed]",
      "text/plain": [
       "<Figure size 1000x500 with 2 Axes>"
      ]
     },
     "metadata": {},
     "output_type": "display_data"
    }
   ],
   "source": [
    "fig, (ax1,ax2) = plt.subplots(1,2, figsize=(10,5))\n",
    "ax1.hist(df[\"gdp_per_capita\"])\n",
    "ax2.hist(gdp_trnsform)\n",
    "ax1.set_title(\"Gdp_Per_Capita Before Log Transform\")\n",
    "ax2.set_title(\"Gdp_Per_Capita After Log Transformed\")\n",
    "ax1.set_ylabel(\"GDP\")\n",
    "\n",
    "fig, (ax1,ax2) = plt.subplots(1,2, figsize=(10,5))\n",
    "ax1.hist(df[\"total_deaths\"])\n",
    "ax2.hist(total_deaths_trnsform)\n",
    "ax1.set_title(\"Total_Deaths Before Log Transform\")\n",
    "ax2.set_title(\"Total_Deaths After Log Transformed\")\n",
    "ax1.set_ylabel(\"Total Deaths\")"
   ]
  },
  {
   "cell_type": "code",
   "execution_count": 12,
   "id": "74b384ba",
   "metadata": {},
   "outputs": [
    {
     "data": {
      "text/html": [
       "<div>\n",
       "<style scoped>\n",
       "    .dataframe tbody tr th:only-of-type {\n",
       "        vertical-align: middle;\n",
       "    }\n",
       "\n",
       "    .dataframe tbody tr th {\n",
       "        vertical-align: top;\n",
       "    }\n",
       "\n",
       "    .dataframe thead th {\n",
       "        text-align: right;\n",
       "    }\n",
       "</style>\n",
       "<table border=\"1\" class=\"dataframe\">\n",
       "  <thead>\n",
       "    <tr style=\"text-align: right;\">\n",
       "      <th></th>\n",
       "      <th>location</th>\n",
       "      <th>date</th>\n",
       "      <th>total_cases</th>\n",
       "      <th>total_deaths</th>\n",
       "      <th>stringency_index</th>\n",
       "      <th>population</th>\n",
       "      <th>gdp_per_capita</th>\n",
       "      <th>hdi</th>\n",
       "      <th>gpd_per_capita</th>\n",
       "    </tr>\n",
       "  </thead>\n",
       "  <tbody>\n",
       "    <tr>\n",
       "      <th>0</th>\n",
       "      <td>Afghanistan</td>\n",
       "      <td>2019-12-31</td>\n",
       "      <td>0.0</td>\n",
       "      <td>0.0</td>\n",
       "      <td>0.0</td>\n",
       "      <td>38928341</td>\n",
       "      <td>1803.987</td>\n",
       "      <td>0.498</td>\n",
       "      <td>7.498309</td>\n",
       "    </tr>\n",
       "    <tr>\n",
       "      <th>1</th>\n",
       "      <td>Afghanistan</td>\n",
       "      <td>2020-01-01</td>\n",
       "      <td>0.0</td>\n",
       "      <td>0.0</td>\n",
       "      <td>0.0</td>\n",
       "      <td>38928341</td>\n",
       "      <td>1803.987</td>\n",
       "      <td>0.498</td>\n",
       "      <td>7.498309</td>\n",
       "    </tr>\n",
       "    <tr>\n",
       "      <th>2</th>\n",
       "      <td>Afghanistan</td>\n",
       "      <td>2020-01-02</td>\n",
       "      <td>0.0</td>\n",
       "      <td>0.0</td>\n",
       "      <td>0.0</td>\n",
       "      <td>38928341</td>\n",
       "      <td>1803.987</td>\n",
       "      <td>0.498</td>\n",
       "      <td>7.498309</td>\n",
       "    </tr>\n",
       "    <tr>\n",
       "      <th>3</th>\n",
       "      <td>Afghanistan</td>\n",
       "      <td>2020-01-03</td>\n",
       "      <td>0.0</td>\n",
       "      <td>0.0</td>\n",
       "      <td>0.0</td>\n",
       "      <td>38928341</td>\n",
       "      <td>1803.987</td>\n",
       "      <td>0.498</td>\n",
       "      <td>7.498309</td>\n",
       "    </tr>\n",
       "    <tr>\n",
       "      <th>4</th>\n",
       "      <td>Afghanistan</td>\n",
       "      <td>2020-01-04</td>\n",
       "      <td>0.0</td>\n",
       "      <td>0.0</td>\n",
       "      <td>0.0</td>\n",
       "      <td>38928341</td>\n",
       "      <td>1803.987</td>\n",
       "      <td>0.498</td>\n",
       "      <td>7.498309</td>\n",
       "    </tr>\n",
       "  </tbody>\n",
       "</table>\n",
       "</div>"
      ],
      "text/plain": [
       "      location        date  total_cases  total_deaths  stringency_index  \\\n",
       "0  Afghanistan  2019-12-31          0.0           0.0               0.0   \n",
       "1  Afghanistan  2020-01-01          0.0           0.0               0.0   \n",
       "2  Afghanistan  2020-01-02          0.0           0.0               0.0   \n",
       "3  Afghanistan  2020-01-03          0.0           0.0               0.0   \n",
       "4  Afghanistan  2020-01-04          0.0           0.0               0.0   \n",
       "\n",
       "   population  gdp_per_capita    hdi  gpd_per_capita  \n",
       "0    38928341        1803.987  0.498        7.498309  \n",
       "1    38928341        1803.987  0.498        7.498309  \n",
       "2    38928341        1803.987  0.498        7.498309  \n",
       "3    38928341        1803.987  0.498        7.498309  \n",
       "4    38928341        1803.987  0.498        7.498309  "
      ]
     },
     "execution_count": 12,
     "metadata": {},
     "output_type": "execute_result"
    }
   ],
   "source": [
    "df[\"gpd_per_capita\"]= gdp_trnsform\n",
    "df[\"total_deaths\"] = total_deaths_trnsform\n",
    "df.head()"
   ]
  },
  {
   "cell_type": "code",
   "execution_count": 13,
   "id": "597ae651",
   "metadata": {},
   "outputs": [
    {
     "data": {
      "text/plain": [
       "['Afghanistan',\n",
       " 'Albania',\n",
       " 'Algeria',\n",
       " 'Andorra',\n",
       " 'Angola',\n",
       " 'Anguilla',\n",
       " 'Antigua and Barbuda',\n",
       " 'Argentina',\n",
       " 'Armenia',\n",
       " 'Aruba',\n",
       " 'Australia',\n",
       " 'Austria',\n",
       " 'Azerbaijan',\n",
       " 'Bahamas',\n",
       " 'Bahrain',\n",
       " 'Bangladesh',\n",
       " 'Barbados',\n",
       " 'Belarus',\n",
       " 'Belgium',\n",
       " 'Belize',\n",
       " 'Benin',\n",
       " 'Bermuda',\n",
       " 'Bhutan',\n",
       " 'Bolivia',\n",
       " 'Bonaire Sint Eustatius and Saba',\n",
       " 'Bosnia and Herzegovina',\n",
       " 'Botswana',\n",
       " 'Brazil',\n",
       " 'British Virgin Islands',\n",
       " 'Brunei',\n",
       " 'Bulgaria',\n",
       " 'Burkina Faso',\n",
       " 'Burundi',\n",
       " 'Cambodia',\n",
       " 'Cameroon',\n",
       " 'Canada',\n",
       " 'Cape Verde',\n",
       " 'Cayman Islands',\n",
       " 'Central African Republic',\n",
       " 'Chad',\n",
       " 'Chile',\n",
       " 'China',\n",
       " 'Colombia',\n",
       " 'Comoros',\n",
       " 'Congo',\n",
       " 'Costa Rica',\n",
       " \"Cote d'Ivoire\",\n",
       " 'Croatia',\n",
       " 'Cuba',\n",
       " 'Curacao',\n",
       " 'Cyprus',\n",
       " 'Czech Republic',\n",
       " 'Democratic Republic of Congo',\n",
       " 'Denmark',\n",
       " 'Djibouti',\n",
       " 'Dominica',\n",
       " 'Dominican Republic',\n",
       " 'Ecuador',\n",
       " 'Egypt',\n",
       " 'El Salvador',\n",
       " 'Equatorial Guinea',\n",
       " 'Eritrea',\n",
       " 'Estonia',\n",
       " 'Ethiopia',\n",
       " 'Faeroe Islands',\n",
       " 'Falkland Islands',\n",
       " 'Fiji',\n",
       " 'Finland',\n",
       " 'France',\n",
       " 'French Polynesia',\n",
       " 'Gabon',\n",
       " 'Gambia',\n",
       " 'Georgia',\n",
       " 'Germany',\n",
       " 'Ghana',\n",
       " 'Gibraltar',\n",
       " 'Greece',\n",
       " 'Greenland',\n",
       " 'Grenada',\n",
       " 'Guam',\n",
       " 'Guatemala',\n",
       " 'Guernsey',\n",
       " 'Guinea',\n",
       " 'Guinea-Bissau',\n",
       " 'Guyana',\n",
       " 'Haiti',\n",
       " 'Honduras',\n",
       " 'Hong Kong',\n",
       " 'Hungary',\n",
       " 'Iceland',\n",
       " 'India',\n",
       " 'Indonesia',\n",
       " 'Iran',\n",
       " 'Iraq',\n",
       " 'Ireland',\n",
       " 'Isle of Man',\n",
       " 'Israel',\n",
       " 'Italy',\n",
       " 'Jamaica',\n",
       " 'Japan',\n",
       " 'Jersey',\n",
       " 'Jordan',\n",
       " 'Kazakhstan',\n",
       " 'Kenya',\n",
       " 'Kosovo',\n",
       " 'Kuwait',\n",
       " 'Kyrgyzstan',\n",
       " 'Laos',\n",
       " 'Latvia',\n",
       " 'Lebanon',\n",
       " 'Lesotho',\n",
       " 'Liberia',\n",
       " 'Libya',\n",
       " 'Liechtenstein',\n",
       " 'Lithuania',\n",
       " 'Luxembourg',\n",
       " 'Macedonia',\n",
       " 'Madagascar',\n",
       " 'Malawi',\n",
       " 'Malaysia',\n",
       " 'Maldives',\n",
       " 'Mali',\n",
       " 'Malta',\n",
       " 'Mauritania',\n",
       " 'Mauritius',\n",
       " 'Mexico',\n",
       " 'Moldova',\n",
       " 'Monaco',\n",
       " 'Mongolia',\n",
       " 'Montenegro',\n",
       " 'Montserrat',\n",
       " 'Morocco',\n",
       " 'Mozambique',\n",
       " 'Myanmar',\n",
       " 'Namibia',\n",
       " 'Nepal',\n",
       " 'Netherlands',\n",
       " 'New Caledonia',\n",
       " 'New Zealand',\n",
       " 'Nicaragua',\n",
       " 'Niger',\n",
       " 'Nigeria',\n",
       " 'Northern Mariana Islands',\n",
       " 'Norway',\n",
       " 'Oman',\n",
       " 'Pakistan',\n",
       " 'Palestine',\n",
       " 'Panama',\n",
       " 'Papua New Guinea',\n",
       " 'Paraguay',\n",
       " 'Peru',\n",
       " 'Philippines',\n",
       " 'Poland',\n",
       " 'Portugal',\n",
       " 'Puerto Rico',\n",
       " 'Qatar',\n",
       " 'Romania',\n",
       " 'Russia',\n",
       " 'Rwanda',\n",
       " 'Saint Kitts and Nevis',\n",
       " 'Saint Lucia',\n",
       " 'Saint Vincent and the Grenadines',\n",
       " 'San Marino',\n",
       " 'Sao Tome and Principe',\n",
       " 'Saudi Arabia',\n",
       " 'Senegal',\n",
       " 'Serbia',\n",
       " 'Seychelles',\n",
       " 'Sierra Leone',\n",
       " 'Singapore',\n",
       " 'Sint Maarten (Dutch part)',\n",
       " 'Slovakia',\n",
       " 'Slovenia',\n",
       " 'Solomon Islands',\n",
       " 'Somalia',\n",
       " 'South Africa',\n",
       " 'South Korea',\n",
       " 'South Sudan',\n",
       " 'Spain',\n",
       " 'Sri Lanka',\n",
       " 'Sudan',\n",
       " 'Suriname',\n",
       " 'Swaziland',\n",
       " 'Sweden',\n",
       " 'Switzerland',\n",
       " 'Syria',\n",
       " 'Taiwan',\n",
       " 'Tajikistan',\n",
       " 'Tanzania',\n",
       " 'Thailand',\n",
       " 'Timor',\n",
       " 'Togo',\n",
       " 'Trinidad and Tobago',\n",
       " 'Tunisia',\n",
       " 'Turkey',\n",
       " 'Turks and Caicos Islands',\n",
       " 'Uganda',\n",
       " 'Ukraine',\n",
       " 'United Arab Emirates',\n",
       " 'United Kingdom',\n",
       " 'United States',\n",
       " 'United States Virgin Islands',\n",
       " 'Uruguay',\n",
       " 'Uzbekistan',\n",
       " 'Vatican',\n",
       " 'Venezuela',\n",
       " 'Vietnam',\n",
       " 'Yemen',\n",
       " 'Zambia',\n",
       " 'Zimbabwe']"
      ]
     },
     "execution_count": 13,
     "metadata": {},
     "output_type": "execute_result"
    }
   ],
   "source": [
    "df[\"location\"].unique().tolist()"
   ]
  },
  {
   "cell_type": "code",
   "execution_count": 15,
   "id": "4985456e",
   "metadata": {},
   "outputs": [],
   "source": [
    "asia_countries = [\n",
    "    'Afghanistan', 'Azerbaijan', 'Bahrain', 'Bangladesh', 'Bhutan', 'United Arab Emirates', 'Brunei', 'China',\n",
    "    'East Timor', 'Indonesia', 'Armenia', 'Philippines', 'Palestine', 'South Korea', 'Georgia', 'India', 'Iraq',\n",
    "    'Iran', 'Israel', 'Japan', 'Cambodia', 'Qatar', 'Kazakhstan', 'Kyrgyzstan', 'North Korea', 'Malaysia', 'Nepal',\n",
    "    'Uzbekistan', 'Pakistan', 'Russia', 'Singapore', 'Sri Lanka', 'Syria', 'Tajikistan', 'Thailand', 'Turkey',\n",
    "    'Turkmenistan', 'Jordan', 'Vietnam', 'Yemen']\n",
    "\n",
    "africa_countries = [\n",
    "    'Angola', 'Western Sahara', 'Benin', 'Botswana', 'Burkina Faso', 'Burundi', 'Algeria', 'Djibouti', 'Chad',\n",
    "    'Congo DC', 'Equatorial Guinea', 'Eritrea', 'Ethiopia', 'Morocco', 'Ivory Coast', 'Gabon', 'Gambia', 'Ghana',\n",
    "    'Guinea', 'Guinea-Bissau', 'Republic of South Africa', 'Cameroon', 'Cape Verde', 'Kenya', 'Comoros', \n",
    "    'Republic of the Congo', 'Lesotho', 'Liberia', 'Libya', 'Madagascar', 'Malawi', 'Mali', 'Mauritius', 'Mauritania',\n",
    "    'Mozambique', 'Egypt', 'Namibia', 'Niger', 'Nigeria', 'Central African Republic', 'Rwanda', 'Sao Tome and Principe',\n",
    "    'Senegal', 'Seychelles', 'Sierra Leone', 'Somalia', 'Sudan', 'Eswatini', 'Tanzania', 'Togo', 'Tunisia', 'Uganda',\n",
    "    'Zambia', 'Zimbabwe']\n",
    "\n",
    "europe_countries = [\n",
    "    'Andorra', 'Germany', 'Albania', 'Azerbaijan', 'Austria', 'Belgium', 'Belarus', 'United Kingdom', \n",
    "    'Bosnia and Herzegovina', 'Bulgaria', 'Georgia', 'Czechia', 'Denmark', 'Estonia', 'Faroe Islands', \n",
    "    'Finland', 'France', 'Netherlands', 'Croatia', 'Ireland', 'Spain', 'Sweden', 'Switzerland', 'Italy', \n",
    "    'Iceland', 'Montenegro', 'Kosovo', 'Turkish Republic of Northern Cyprus', 'Latvia', 'Liechtenstein', \n",
    "    'Lithuania', 'Luxembourg', 'Hungary', 'North Macedonia', 'Malta', 'Moldova', 'Monaco', 'Norway', \n",
    "    'Poland', 'Portugal', 'Romania', 'Rusya', 'San Marino', 'Slovakia', 'Slovenia', 'Sırbistan', 'Türkiye', \n",
    "    'Ukraina', 'Greece']\n",
    "\n",
    "north_america_countries = [\n",
    "    'US Virgin Islands', 'United States', 'Antigua and Barbuda', 'Aruba', 'Bahama', 'Barbados', 'Belize', 'Bermuda',\n",
    "    'Cayman Islands', 'Dominica', 'Dominican Republic', 'El Salvador', 'Grenada', 'Greenland', 'Guadeloupe', 'Guatemala',\n",
    "    'Haiti', 'Netherlands Antilles', 'Honduras', 'Jamaica', 'Canada', 'Costa Rica', 'Cuba', 'Martinique', 'Mexico',\n",
    "    'Montserrat', 'Nicaragua', 'Panama', 'Puerto Rico', 'Saint Kitts ve Nevis', 'Saint Lucia', 'Saint Vincent ve Granada',\n",
    "    'Saint-Pierre ve Miquelon', 'Trinidad ve Tobago', 'Turks ve Caicos Islands']\n",
    "\n",
    "south_america_countries = [\n",
    "    'Argentina', 'Bolivia', 'Brazil', 'French Guiana', 'Guyana', 'Colombia', 'Ecuador', 'Paraguay', 'Surinam',\n",
    "    'Uruguay', 'Venezuela', 'Şili', 'Peru']\n",
    "\n",
    "oceania_countries = [\n",
    "    'New Caledonia', 'Australia', 'Tonga', 'Vanuatu', 'Nauru', 'New Zealand', 'Fiji', 'Tuvalu', 'Samoa', \n",
    "    'Solomon Islands', 'Kiribati', 'Papua New Guinea']\n"
   ]
  },
  {
   "cell_type": "code",
   "execution_count": 16,
   "id": "a4f26a9c",
   "metadata": {},
   "outputs": [],
   "source": [
    "for country in asia_countries:\n",
    "    df[\"location\"] = df[\"location\"].str.replace(country, \"Asia\")\n",
    "\n",
    "for country in africa_countries:\n",
    "    df[\"location\"] = df[\"location\"].str.replace(country, \"Africa\")\n",
    "    \n",
    "for country in europe_countries:\n",
    "    df[\"location\"] = df[\"location\"].str.replace(country, \"Europe\")\n",
    "    \n",
    "for country in north_america_countries:\n",
    "    df[\"location\"] = df[\"location\"].str.replace(country, \"North_America\")\n",
    "    \n",
    "for country in south_america_countries:\n",
    "    df[\"location\"] = df[\"location\"].str.replace(country, \"South_America\") \n",
    "    \n",
    "for country in oceania_countries:\n",
    "    df[\"location\"] = df[\"location\"].str.replace(country, \"Oceania\")"
   ]
  },
  {
   "cell_type": "code",
   "execution_count": 17,
   "id": "b067101f",
   "metadata": {},
   "outputs": [],
   "source": [
    "df.rename(columns={'location': 'continents'}, inplace=True)"
   ]
  },
  {
   "cell_type": "code",
   "execution_count": 19,
   "id": "efa07435",
   "metadata": {},
   "outputs": [
    {
     "data": {
      "text/plain": [
       "['Asia', 'Europe', 'Africa', 'North_America', 'South_America', 'Oceania']"
      ]
     },
     "execution_count": 19,
     "metadata": {},
     "output_type": "execute_result"
    }
   ],
   "source": [
    "df[\"continents\"].unique().tolist()"
   ]
  },
  {
   "cell_type": "code",
   "execution_count": 18,
   "id": "99629c22",
   "metadata": {},
   "outputs": [],
   "source": [
    "df = pd.get_dummies(df, columns=[\"continents\"], drop_first=True)"
   ]
  },
  {
   "cell_type": "markdown",
   "id": "8eeac86b",
   "metadata": {},
   "source": [
    "If one-hot encoding is applied to the \"location\" column, it may result in a large number of new columns, each representing a unique location.I grouped the countries by continents for this reason and renamed the 'location' column to 'continents'"
   ]
  },
  {
   "cell_type": "code",
   "execution_count": 19,
   "id": "d668a3dc",
   "metadata": {},
   "outputs": [],
   "source": [
    "df = df.drop(\"date\", axis=1)"
   ]
  },
  {
   "cell_type": "markdown",
   "id": "2726db33",
   "metadata": {},
   "source": [
    "I removed the 'date' column as it had no impact on the model."
   ]
  },
  {
   "cell_type": "code",
   "execution_count": 20,
   "id": "95d83ec4",
   "metadata": {},
   "outputs": [
    {
     "data": {
      "text/html": [
       "<div>\n",
       "<style scoped>\n",
       "    .dataframe tbody tr th:only-of-type {\n",
       "        vertical-align: middle;\n",
       "    }\n",
       "\n",
       "    .dataframe tbody tr th {\n",
       "        vertical-align: top;\n",
       "    }\n",
       "\n",
       "    .dataframe thead th {\n",
       "        text-align: right;\n",
       "    }\n",
       "</style>\n",
       "<table border=\"1\" class=\"dataframe\">\n",
       "  <thead>\n",
       "    <tr style=\"text-align: right;\">\n",
       "      <th></th>\n",
       "      <th>total_cases</th>\n",
       "      <th>total_deaths</th>\n",
       "      <th>stringency_index</th>\n",
       "      <th>population</th>\n",
       "      <th>gdp_per_capita</th>\n",
       "      <th>hdi</th>\n",
       "      <th>gpd_per_capita</th>\n",
       "      <th>continents_Africa-Bissau</th>\n",
       "      <th>continents_Africaia</th>\n",
       "      <th>continents_Anguilla</th>\n",
       "      <th>...</th>\n",
       "      <th>continents_South Africa</th>\n",
       "      <th>continents_South_America</th>\n",
       "      <th>continents_South_Americae</th>\n",
       "      <th>continents_Swaziland</th>\n",
       "      <th>continents_Taiwan</th>\n",
       "      <th>continents_Timor</th>\n",
       "      <th>continents_Trinidad and Tobago</th>\n",
       "      <th>continents_Turks and Caicos Islands</th>\n",
       "      <th>continents_Ukraine</th>\n",
       "      <th>continents_Vatican</th>\n",
       "    </tr>\n",
       "  </thead>\n",
       "  <tbody>\n",
       "    <tr>\n",
       "      <th>0</th>\n",
       "      <td>0.0</td>\n",
       "      <td>0.0</td>\n",
       "      <td>0.0</td>\n",
       "      <td>38928341</td>\n",
       "      <td>1803.987</td>\n",
       "      <td>0.498</td>\n",
       "      <td>7.498309</td>\n",
       "      <td>False</td>\n",
       "      <td>False</td>\n",
       "      <td>False</td>\n",
       "      <td>...</td>\n",
       "      <td>False</td>\n",
       "      <td>False</td>\n",
       "      <td>False</td>\n",
       "      <td>False</td>\n",
       "      <td>False</td>\n",
       "      <td>False</td>\n",
       "      <td>False</td>\n",
       "      <td>False</td>\n",
       "      <td>False</td>\n",
       "      <td>False</td>\n",
       "    </tr>\n",
       "    <tr>\n",
       "      <th>1</th>\n",
       "      <td>0.0</td>\n",
       "      <td>0.0</td>\n",
       "      <td>0.0</td>\n",
       "      <td>38928341</td>\n",
       "      <td>1803.987</td>\n",
       "      <td>0.498</td>\n",
       "      <td>7.498309</td>\n",
       "      <td>False</td>\n",
       "      <td>False</td>\n",
       "      <td>False</td>\n",
       "      <td>...</td>\n",
       "      <td>False</td>\n",
       "      <td>False</td>\n",
       "      <td>False</td>\n",
       "      <td>False</td>\n",
       "      <td>False</td>\n",
       "      <td>False</td>\n",
       "      <td>False</td>\n",
       "      <td>False</td>\n",
       "      <td>False</td>\n",
       "      <td>False</td>\n",
       "    </tr>\n",
       "    <tr>\n",
       "      <th>2</th>\n",
       "      <td>0.0</td>\n",
       "      <td>0.0</td>\n",
       "      <td>0.0</td>\n",
       "      <td>38928341</td>\n",
       "      <td>1803.987</td>\n",
       "      <td>0.498</td>\n",
       "      <td>7.498309</td>\n",
       "      <td>False</td>\n",
       "      <td>False</td>\n",
       "      <td>False</td>\n",
       "      <td>...</td>\n",
       "      <td>False</td>\n",
       "      <td>False</td>\n",
       "      <td>False</td>\n",
       "      <td>False</td>\n",
       "      <td>False</td>\n",
       "      <td>False</td>\n",
       "      <td>False</td>\n",
       "      <td>False</td>\n",
       "      <td>False</td>\n",
       "      <td>False</td>\n",
       "    </tr>\n",
       "    <tr>\n",
       "      <th>3</th>\n",
       "      <td>0.0</td>\n",
       "      <td>0.0</td>\n",
       "      <td>0.0</td>\n",
       "      <td>38928341</td>\n",
       "      <td>1803.987</td>\n",
       "      <td>0.498</td>\n",
       "      <td>7.498309</td>\n",
       "      <td>False</td>\n",
       "      <td>False</td>\n",
       "      <td>False</td>\n",
       "      <td>...</td>\n",
       "      <td>False</td>\n",
       "      <td>False</td>\n",
       "      <td>False</td>\n",
       "      <td>False</td>\n",
       "      <td>False</td>\n",
       "      <td>False</td>\n",
       "      <td>False</td>\n",
       "      <td>False</td>\n",
       "      <td>False</td>\n",
       "      <td>False</td>\n",
       "    </tr>\n",
       "    <tr>\n",
       "      <th>4</th>\n",
       "      <td>0.0</td>\n",
       "      <td>0.0</td>\n",
       "      <td>0.0</td>\n",
       "      <td>38928341</td>\n",
       "      <td>1803.987</td>\n",
       "      <td>0.498</td>\n",
       "      <td>7.498309</td>\n",
       "      <td>False</td>\n",
       "      <td>False</td>\n",
       "      <td>False</td>\n",
       "      <td>...</td>\n",
       "      <td>False</td>\n",
       "      <td>False</td>\n",
       "      <td>False</td>\n",
       "      <td>False</td>\n",
       "      <td>False</td>\n",
       "      <td>False</td>\n",
       "      <td>False</td>\n",
       "      <td>False</td>\n",
       "      <td>False</td>\n",
       "      <td>False</td>\n",
       "    </tr>\n",
       "  </tbody>\n",
       "</table>\n",
       "<p>5 rows × 60 columns</p>\n",
       "</div>"
      ],
      "text/plain": [
       "   total_cases  total_deaths  stringency_index  population  gdp_per_capita  \\\n",
       "0          0.0           0.0               0.0    38928341        1803.987   \n",
       "1          0.0           0.0               0.0    38928341        1803.987   \n",
       "2          0.0           0.0               0.0    38928341        1803.987   \n",
       "3          0.0           0.0               0.0    38928341        1803.987   \n",
       "4          0.0           0.0               0.0    38928341        1803.987   \n",
       "\n",
       "     hdi  gpd_per_capita  continents_Africa-Bissau  continents_Africaia  \\\n",
       "0  0.498        7.498309                     False                False   \n",
       "1  0.498        7.498309                     False                False   \n",
       "2  0.498        7.498309                     False                False   \n",
       "3  0.498        7.498309                     False                False   \n",
       "4  0.498        7.498309                     False                False   \n",
       "\n",
       "   continents_Anguilla  ...  continents_South Africa  \\\n",
       "0                False  ...                    False   \n",
       "1                False  ...                    False   \n",
       "2                False  ...                    False   \n",
       "3                False  ...                    False   \n",
       "4                False  ...                    False   \n",
       "\n",
       "   continents_South_America  continents_South_Americae  continents_Swaziland  \\\n",
       "0                     False                      False                 False   \n",
       "1                     False                      False                 False   \n",
       "2                     False                      False                 False   \n",
       "3                     False                      False                 False   \n",
       "4                     False                      False                 False   \n",
       "\n",
       "   continents_Taiwan  continents_Timor  continents_Trinidad and Tobago  \\\n",
       "0              False             False                           False   \n",
       "1              False             False                           False   \n",
       "2              False             False                           False   \n",
       "3              False             False                           False   \n",
       "4              False             False                           False   \n",
       "\n",
       "   continents_Turks and Caicos Islands  continents_Ukraine  continents_Vatican  \n",
       "0                                False               False               False  \n",
       "1                                False               False               False  \n",
       "2                                False               False               False  \n",
       "3                                False               False               False  \n",
       "4                                False               False               False  \n",
       "\n",
       "[5 rows x 60 columns]"
      ]
     },
     "execution_count": 20,
     "metadata": {},
     "output_type": "execute_result"
    }
   ],
   "source": [
    "df.head()"
   ]
  },
  {
   "cell_type": "markdown",
   "id": "314bb287",
   "metadata": {},
   "source": [
    "# Train Models"
   ]
  },
  {
   "cell_type": "code",
   "execution_count": 21,
   "id": "55909954",
   "metadata": {},
   "outputs": [],
   "source": [
    "y = df.gdp_per_capita\n",
    "x = df.drop(\"gdp_per_capita\", axis=1)"
   ]
  },
  {
   "cell_type": "code",
   "execution_count": 22,
   "id": "05d2cd07",
   "metadata": {},
   "outputs": [],
   "source": [
    "x_train, x_test, y_train, y_test = train_test_split(x,y, test_size=0.20, random_state = 157)"
   ]
  },
  {
   "cell_type": "code",
   "execution_count": 23,
   "id": "6dd71bcb",
   "metadata": {},
   "outputs": [],
   "source": [
    "kf = KFold(shuffle = True , random_state= 157, n_splits= 3 )"
   ]
  },
  {
   "cell_type": "code",
   "execution_count": 24,
   "id": "8cefdf50",
   "metadata": {},
   "outputs": [
    {
     "data": {
      "text/plain": [
       "(0.7686575270549258, 0.763485392454456)"
      ]
     },
     "execution_count": 24,
     "metadata": {},
     "output_type": "execute_result"
    }
   ],
   "source": [
    "#LinearRegression\n",
    "ss = StandardScaler()\n",
    "lr = LinearRegression()\n",
    "\n",
    "x_train_ss = ss.fit_transform(x_train)\n",
    "lr.fit(x_train_ss, y_train)\n",
    "x_test_ss = ss.transform(x_test)\n",
    "y_pred = lr.predict(x_test_ss)\n",
    "score = r2_score(y_test.values, y_pred)\n",
    "\n",
    "#with pipeline\n",
    "estimator=Pipeline([(\"scaler\",ss),(\"linear_reg\",lr)])\n",
    "prediction = cross_val_predict(estimator, x_train_ss,y_train, cv=kf)\n",
    "linear_score = r2_score(y_train, prediction)\n",
    "\n",
    "score, linear_score"
   ]
  },
  {
   "cell_type": "code",
   "execution_count": 25,
   "id": "0d98dbbf",
   "metadata": {},
   "outputs": [
    {
     "data": {
      "text/plain": [
       "Text(0, 0.5, '$R^2$')"
      ]
     },
     "execution_count": 25,
     "metadata": {},
     "output_type": "execute_result"
    },
    {
     "data": {
      "image/png": "[encoded data removed]",
      "text/plain": [
       "<Figure size 640x480 with 1 Axes>"
      ]
     },
     "metadata": {},
     "output_type": "display_data"
    }
   ],
   "source": [
    "#Ridge regression\n",
    "pf = PolynomialFeatures(degree=2)\n",
    "alphas = np.geomspace(4,20,20)\n",
    "\n",
    "score=[]\n",
    "for alpha in alphas:\n",
    "    ridge = Ridge(alpha = alpha, max_iter=10000)\n",
    "    \n",
    "    estimator = Pipeline([(\"scaler\", ss),(\"polynomial_features\", pf),(\"ridge_reg\",ridge)])\n",
    "    prediction_r = cross_val_predict(estimator, x_train_ss, y_train,cv=kf) \n",
    "    scores = r2_score(y_train,prediction_r)\n",
    "    score.append(scores)\n",
    "score\n",
    "plt.plot(alphas, score, \"-o\")\n",
    "plt.title(\"Ridge Regression\")\n",
    "plt.xlabel(\"$\\\\alpha$\")\n",
    "plt.ylabel(\"$R^2$\")"
   ]
  },
  {
   "cell_type": "code",
   "execution_count": 26,
   "id": "bbfd42d8",
   "metadata": {},
   "outputs": [],
   "source": [
    "best_estimator= Pipeline([(\"scaler\",ss),(\"polynomial_reg\",pf),(\"ridge_reg\",Ridge(alpha=0.4))])\n",
    "best_estimator.fit(x_train_ss,y_train)\n",
    "ridge_score = best_estimator.score(x_train_ss,y_train)"
   ]
  },
  {
   "cell_type": "code",
   "execution_count": null,
   "id": "878081f7",
   "metadata": {},
   "outputs": [],
   "source": [
    "#lasso regression\n",
    "pf = PolynomialFeatures(degree=3)\n",
    "\n",
    "score = []\n",
    "alphas = np.geomspace(0.06,6.0,20)\n",
    "for alpha in alphas:\n",
    "    lasso = Lasso(alpha = alpha, max_iter=10000)\n",
    "    estimator = Pipeline([(\"scaler\",ss),(\"polynomial_features\",pf),(\"lasso\",lasso)])\n",
    "    prediction_l = cross_val_predict(estimator,x_train_ss, y_train, cv=kf )\n",
    "    scores = r2_score(y_train, prediction_l)\n",
    "    score.append(scores)\n",
    "plt.plot(alphas,score, \"-o\")\n",
    "plt.title(\"Lasso Regression\")\n",
    "plt.xlabel(\"$\\\\alpha$\")\n",
    "plt.ylabel(\"$R^2$\")"
   ]
  },
  {
   "cell_type": "code",
   "execution_count": 30,
   "id": "25f1a11e",
   "metadata": {},
   "outputs": [],
   "source": [
    "best_estimator = Pipeline([(\"scaler\",ss),(\"polynomial_features\",pf),(\"lasso_reg\",lasso)])\n",
    "best_estimator.fit(x_train_ss,y_train)\n",
    "lasso_score = best_estimator.score(x_train_ss, y_train)"
   ]
  },
  {
   "cell_type": "code",
   "execution_count": 25,
   "id": "fde4d394",
   "metadata": {},
   "outputs": [
    {
     "data": {
      "text/html": [
       "<div>\n",
       "<style scoped>\n",
       "    .dataframe tbody tr th:only-of-type {\n",
       "        vertical-align: middle;\n",
       "    }\n",
       "\n",
       "    .dataframe tbody tr th {\n",
       "        vertical-align: top;\n",
       "    }\n",
       "\n",
       "    .dataframe thead th {\n",
       "        text-align: right;\n",
       "    }\n",
       "</style>\n",
       "<table border=\"1\" class=\"dataframe\">\n",
       "  <thead>\n",
       "    <tr style=\"text-align: right;\">\n",
       "      <th></th>\n",
       "      <th>Linear</th>\n",
       "      <th>Ridge</th>\n",
       "      <th>Lasso</th>\n",
       "    </tr>\n",
       "  </thead>\n",
       "  <tbody>\n",
       "    <tr>\n",
       "      <th>score</th>\n",
       "      <td>0.705351</td>\n",
       "      <td>0.957733</td>\n",
       "      <td>0.996443</td>\n",
       "    </tr>\n",
       "  </tbody>\n",
       "</table>\n",
       "</div>"
      ],
      "text/plain": [
       "         Linear     Ridge     Lasso\n",
       "score  0.705351  0.957733  0.996443"
      ]
     },
     "execution_count": 25,
     "metadata": {},
     "output_type": "execute_result"
    }
   ],
   "source": [
    "pd.DataFrame([[linear_score,ridge_score,lasso_score]],columns=[\"Linear\",\"Ridge\",\"Lasso\"], index=[\"score\"])"
   ]
  },
  {
   "cell_type": "code",
   "execution_count": 32,
   "id": "b55ce87c",
   "metadata": {},
   "outputs": [
    {
     "data": {
      "text/html": [
       "<div>\n",
       "<style scoped>\n",
       "    .dataframe tbody tr th:only-of-type {\n",
       "        vertical-align: middle;\n",
       "    }\n",
       "\n",
       "    .dataframe tbody tr th {\n",
       "        vertical-align: top;\n",
       "    }\n",
       "\n",
       "    .dataframe thead th {\n",
       "        text-align: right;\n",
       "    }\n",
       "</style>\n",
       "<table border=\"1\" class=\"dataframe\">\n",
       "  <thead>\n",
       "    <tr style=\"text-align: right;\">\n",
       "      <th></th>\n",
       "      <th>Linear</th>\n",
       "      <th>Lasso</th>\n",
       "      <th>Ridge</th>\n",
       "      <th>ElasticNet</th>\n",
       "    </tr>\n",
       "  </thead>\n",
       "  <tbody>\n",
       "    <tr>\n",
       "      <th>rmse</th>\n",
       "      <td>10778.163368</td>\n",
       "      <td>10778.812559</td>\n",
       "      <td>10778.163675</td>\n",
       "      <td>10757.987193</td>\n",
       "    </tr>\n",
       "  </tbody>\n",
       "</table>\n",
       "</div>"
      ],
      "text/plain": [
       "            Linear         Lasso         Ridge    ElasticNet\n",
       "rmse  10778.163368  10778.812559  10778.163675  10757.987193"
      ]
     },
     "execution_count": 32,
     "metadata": {},
     "output_type": "execute_result"
    }
   ],
   "source": [
    "def rmse (ytrue, ypredicted):\n",
    "    return np.sqrt(mean_squared_error(ytrue,ypredicted))\n",
    "#linear\n",
    "linear_regs = LinearRegression().fit(x_train,y_train)\n",
    "linear_rmse = rmse(y_test, linear_regs.predict(x_test))\n",
    "#Ridge\n",
    "alphas0 = [0.005, 0.05, 0.1, 0.3, 1, 3, 5, 10, 15, 30, 80]\n",
    "ridgecv = RidgeCV(alphas = alphas0, cv=4).fit(x_train,y_train)\n",
    "ridgecv_rmse = rmse(y_test, ridgecv.predict(x_test))\n",
    "#Lasso\n",
    "alphas1 = np.array([1e-5, 5e-5, 0.0001, 0.0005])\n",
    "lassocv = LassoCV(alphas=alphas1,max_iter = 10000, cv=4).fit(x_train,y_train)\n",
    "lassocv_rmse = rmse(y_test, lassocv.predict(x_test))\n",
    "#ElasticnetCV \n",
    "l1_ratios = np.linspace(0.1,0.9,9)\n",
    "elasticnetcv = ElasticNetCV(alphas = alphas1, l1_ratio=l1_ratios).fit(x_test,y_test)\n",
    "elasticnetcv_rmse = rmse(y_test, elasticnetcv.predict(x_test))\n",
    "rmse_vals = [linear_rmse, ridgecv_rmse, lassocv_rmse, elasticnetcv_rmse]\n",
    "labels = ['Linear', 'Lasso', 'Ridge' 'ElasticNet']\n",
    "\n",
    "rmse_df = pd.DataFrame([[linear_rmse, ridgecv_rmse, lassocv_rmse, elasticnetcv_rmse]],columns=['Linear', 'Lasso', 'Ridge', 'ElasticNet'], index=['rmse'])\n",
    "rmse_df"
   ]
  },
  {
   "cell_type": "code",
   "execution_count": 43,
   "id": "0280edb5",
   "metadata": {},
   "outputs": [
    {
     "data": {
      "text/plain": [
       "[Text(0.5, 0, 'Actual '),\n",
       " Text(0, 0.5, 'Predicted '),\n",
       " Text(0.5, 1.0, 'Linear Regression Results')]"
      ]
     },
     "execution_count": 43,
     "metadata": {},
     "output_type": "execute_result"
    },
    {
     "data": {
      "image/png": "[encoded data removed]",
      "text/plain": [
       "<Figure size 600x600 with 1 Axes>"
      ]
     },
     "metadata": {},
     "output_type": "display_data"
    }
   ],
   "source": [
    "f = plt.figure(figsize=(6,6))\n",
    "ax = plt.axes()\n",
    "\n",
    "labels = ['Ridge', 'Lasso', 'ElasticNet']\n",
    "\n",
    "models = [ridgecv, lassocv, elasticnetcv]\n",
    "\n",
    "for mod, lab in zip(models, labels):\n",
    "    ax.plot(y_test, mod.predict(x_test), \n",
    "             marker='o', ls='', ms=3.0, label=lab, alpha=0.9)\n",
    "\n",
    "\n",
    "leg = plt.legend(frameon=True)\n",
    "leg.get_frame().set_edgecolor('black')\n",
    "leg.get_frame().set_linewidth(1.0)\n",
    "\n",
    "ax.set(xlabel='Actual ', \n",
    "       ylabel='Predicted ', \n",
    "       title='Linear Regression Results')"
   ]
  },
  {
   "cell_type": "markdown",
   "id": "9f652b8f",
   "metadata": {},
   "source": [
    "**Conclusion**:If the RMSE values of our regression models are almost the same, but the RMSE value for ElasticNet is lower than the others, we can choose ElasticNet"
   ]
  },
  {
   "cell_type": "markdown",
   "id": "767bd5a1",
   "metadata": {},
   "source": [
    "## Owner Of the Project: Ahmet K."
   ]
  }
 ],
 "metadata": {
  "kernelspec": {
   "display_name": "Python 3 (ipykernel)",
   "language": "python",
   "name": "python3"
  },
  "language_info": {
   "codemirror_mode": {
    "name": "ipython",
    "version": 3
   },
   "file_extension": ".py",
   "mimetype": "text/x-python",
   "name": "python",
   "nbconvert_exporter": "python",
   "pygments_lexer": "ipython3",
   "version": "3.11.5"
  }
 },
 "nbformat": 4,
 "nbformat_minor": 5
}
